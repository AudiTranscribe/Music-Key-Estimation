{
 "cells": [
  {
   "cell_type": "markdown",
   "source": [
    "# Music Key Estimation\n"
   ],
   "metadata": {
    "pycharm": {
     "name": "#%% md\n"
    }
   }
  },
  {
   "cell_type": "markdown",
   "source": [
    "## Constants\n"
   ],
   "metadata": {
    "pycharm": {
     "name": "#%% md\n"
    }
   }
  },
  {
   "cell_type": "code",
   "execution_count": 1,
   "outputs": [],
   "source": [
    "import pathlib\n",
    "\n",
    "DATA_FOLDER = pathlib.Path(\"data\")\n",
    "AUDIO_DATA_FOLDER = pathlib.Path(\"data/audio\")"
   ],
   "metadata": {
    "pycharm": {
     "name": "#%%\n"
    }
   }
  },
  {
   "cell_type": "markdown",
   "source": [
    "## Notebook Setup"
   ],
   "metadata": {
    "pycharm": {
     "name": "#%% md\n"
    }
   }
  },
  {
   "cell_type": "code",
   "execution_count": 2,
   "outputs": [],
   "source": [
    "from matplotlib import rcParams\n",
    "\n",
    "%matplotlib inline\n",
    "\n",
    "rcParams[\"figure.figsize\"] = 14, 8  # In inches"
   ],
   "metadata": {
    "pycharm": {
     "name": "#%%\n"
    }
   }
  },
  {
   "cell_type": "markdown",
   "source": [
    "## Obtaining Data\n"
   ],
   "metadata": {
    "pycharm": {
     "name": "#%% md\n"
    }
   }
  },
  {
   "cell_type": "markdown",
   "source": [
    "Let's get all the audio files within the data folder."
   ],
   "metadata": {
    "pycharm": {
     "name": "#%% md\n"
    }
   }
  },
  {
   "cell_type": "code",
   "execution_count": 3,
   "outputs": [],
   "source": [
    "import os\n",
    "\n",
    "allFiles = os.listdir(AUDIO_DATA_FOLDER)"
   ],
   "metadata": {
    "pycharm": {
     "name": "#%%\n"
    }
   }
  },
  {
   "cell_type": "markdown",
   "source": [
    "Let's get only the audio files present in the folder.\n"
   ],
   "metadata": {
    "pycharm": {
     "name": "#%% md\n"
    }
   }
  },
  {
   "cell_type": "code",
   "execution_count": 4,
   "outputs": [],
   "source": [
    "audioFiles = [x for x in allFiles if x.lower().endswith(\".mp3\")]"
   ],
   "metadata": {
    "pycharm": {
     "name": "#%%\n"
    }
   }
  },
  {
   "cell_type": "markdown",
   "source": [
    "Let's look at some of the audio files present."
   ],
   "metadata": {
    "pycharm": {
     "name": "#%% md\n"
    }
   }
  },
  {
   "cell_type": "code",
   "execution_count": 5,
   "outputs": [
    {
     "name": "stdout",
     "output_type": "stream",
     "text": [
      "Number of audio files: 25\n",
      "['299482.LOFI.mp3', '297501.LOFI.mp3', '5324261.LOFI.mp3', '299995.LOFI.mp3', '3218510.LOFI.mp3', '718543.LOFI.mp3', '3198699.LOFI.mp3', '299932.LOFI.mp3', '167955.LOFI.mp3', '297261.LOFI.mp3', '5611816.LOFI.mp3', '297806.LOFI.mp3', '4616741.LOFI.mp3', '299862.LOFI.mp3', '4917696.LOFI.mp3', '5943904.LOFI.mp3', '5497183.LOFI.mp3', '1196189.LOFI.mp3', '297541.LOFI.mp3', '297273.LOFI.mp3', '37745.LOFI.mp3', '1115626.LOFI.mp3', '297494.LOFI.mp3', '1410568.LOFI.mp3', '299767.LOFI.mp3']\n"
     ]
    }
   ],
   "source": [
    "print(\"Number of audio files:\", len(audioFiles))\n",
    "print(audioFiles)"
   ],
   "metadata": {
    "pycharm": {
     "name": "#%%\n"
    }
   }
  },
  {
   "cell_type": "markdown",
   "source": [
    "Now let's get the key annotations of the audio files.\n",
    "\n",
    "The key annotations are stored in a file named `annotations.txt`. However, it is formatted like a tab-separated values (TSV) file. Thus we shall read it in as a TSV file and process it.\n"
   ],
   "metadata": {
    "pycharm": {
     "name": "#%% md\n"
    }
   }
  },
  {
   "cell_type": "code",
   "execution_count": 6,
   "outputs": [],
   "source": [
    "import pandas\n",
    "allAnnotations = pandas.read_csv(DATA_FOLDER / \"annotations.txt\", sep=\"\\t\")"
   ],
   "metadata": {
    "pycharm": {
     "name": "#%%\n"
    }
   }
  },
  {
   "cell_type": "markdown",
   "source": [
    "Let's analyse the data.\n"
   ],
   "metadata": {
    "pycharm": {
     "name": "#%% md\n"
    }
   }
  },
  {
   "cell_type": "code",
   "execution_count": 7,
   "outputs": [
    {
     "data": {
      "text/plain": "           ID MANUAL KEY  C\n0        5061   D# minor  2\n1        5881    A major  2\n2        7217    F minor  2\n3       10359    D minor  2\n4       10981          -  0\n...       ...        ... ..\n1481  6532021   C# minor  1\n1482  6535130    E minor  2\n1483  6537998    E major  2\n1484  6563157    B minor  2\n1485  6574410    A major  2\n\n[1486 rows x 3 columns]",
      "text/html": "<div>\n<style scoped>\n    .dataframe tbody tr th:only-of-type {\n        vertical-align: middle;\n    }\n\n    .dataframe tbody tr th {\n        vertical-align: top;\n    }\n\n    .dataframe thead th {\n        text-align: right;\n    }\n</style>\n<table border=\"1\" class=\"dataframe\">\n  <thead>\n    <tr style=\"text-align: right;\">\n      <th></th>\n      <th>ID</th>\n      <th>MANUAL KEY</th>\n      <th>C</th>\n    </tr>\n  </thead>\n  <tbody>\n    <tr>\n      <th>0</th>\n      <td>5061</td>\n      <td>D# minor</td>\n      <td>2</td>\n    </tr>\n    <tr>\n      <th>1</th>\n      <td>5881</td>\n      <td>A major</td>\n      <td>2</td>\n    </tr>\n    <tr>\n      <th>2</th>\n      <td>7217</td>\n      <td>F minor</td>\n      <td>2</td>\n    </tr>\n    <tr>\n      <th>3</th>\n      <td>10359</td>\n      <td>D minor</td>\n      <td>2</td>\n    </tr>\n    <tr>\n      <th>4</th>\n      <td>10981</td>\n      <td>-</td>\n      <td>0</td>\n    </tr>\n    <tr>\n      <th>...</th>\n      <td>...</td>\n      <td>...</td>\n      <td>...</td>\n    </tr>\n    <tr>\n      <th>1481</th>\n      <td>6532021</td>\n      <td>C# minor</td>\n      <td>1</td>\n    </tr>\n    <tr>\n      <th>1482</th>\n      <td>6535130</td>\n      <td>E minor</td>\n      <td>2</td>\n    </tr>\n    <tr>\n      <th>1483</th>\n      <td>6537998</td>\n      <td>E major</td>\n      <td>2</td>\n    </tr>\n    <tr>\n      <th>1484</th>\n      <td>6563157</td>\n      <td>B minor</td>\n      <td>2</td>\n    </tr>\n    <tr>\n      <th>1485</th>\n      <td>6574410</td>\n      <td>A major</td>\n      <td>2</td>\n    </tr>\n  </tbody>\n</table>\n<p>1486 rows × 3 columns</p>\n</div>"
     },
     "execution_count": 7,
     "metadata": {},
     "output_type": "execute_result"
    }
   ],
   "source": [
    "allAnnotations"
   ],
   "metadata": {
    "pycharm": {
     "name": "#%%\n"
    }
   }
  },
  {
   "cell_type": "markdown",
   "source": [
    "Some things to note about the data:\n",
    "- Some rows do not have a `MANUAL KEY`. These rows need to be removed.\n",
    "- The `C` value is the *confidence value* of the key estimate. Higher confidence values means that the key value is more likely to be correct.\n",
    "    - Interestingly, rows without a manual key have a confidence value of `0`. This reveals a quick way to remove non-key rows.\n",
    "- Some rows have more than one `MANUAL KEY` (see row 47 with `ID = 61578`). For consistency, we shall pick the first key that appears in that `MANUAL KEY` column."
   ],
   "metadata": {
    "pycharm": {
     "name": "#%% md\n"
    }
   }
  },
  {
   "cell_type": "markdown",
   "source": [
    "After cleaning up the data, we can remove the `C` column as it is not helpful when we are estimating the key of the music.\n",
    "\n",
    "Let's run the processes described above.\n"
   ],
   "metadata": {
    "pycharm": {
     "name": "#%% md\n"
    }
   }
  },
  {
   "cell_type": "code",
   "execution_count": 8,
   "outputs": [],
   "source": [
    "# Handle the rows with more than one manual key\n",
    "numRows = len(allAnnotations)\n",
    "\n",
    "for index in range(numRows):\n",
    "    # Get the \"MANUAL KEY\" column's value\n",
    "    manualKey = allAnnotations.iloc[index][\"MANUAL KEY\"]\n",
    "\n",
    "    # Split the key entry by a forward slash (/)\n",
    "    manualKeys = manualKey.split(\"/\")\n",
    "\n",
    "    # Keep only the first key\n",
    "    manualKey = manualKeys[0]\n",
    "\n",
    "    # Update the dataframe, by adding a new \"KEY\" column in place of the \"MANUAL KEY\" column\n",
    "    allAnnotations.loc[index, \"KEY\"] = manualKey.strip().upper()\n",
    "\n",
    "# Remove all rows with a confidence value of 0 (i.e. no manual key)\n",
    "allAnnotations.drop(allAnnotations[allAnnotations[\"C\"] == 0].index, inplace=True)\n",
    "\n",
    "# Remove the \"C\" and \"MANUAL KEY\" column\n",
    "allAnnotations.drop(columns=[\"C\", \"MANUAL KEY\"], inplace=True)"
   ],
   "metadata": {
    "pycharm": {
     "name": "#%%\n"
    }
   }
  },
  {
   "cell_type": "markdown",
   "source": [
    "Let's look at the updated data.\n"
   ],
   "metadata": {
    "pycharm": {
     "name": "#%% md\n"
    }
   }
  },
  {
   "cell_type": "code",
   "execution_count": 9,
   "outputs": [
    {
     "data": {
      "text/plain": "           ID       KEY\n0        5061  D# MINOR\n1        5881   A MAJOR\n2        7217   F MINOR\n3       10359   D MINOR\n5       11077   G MINOR\n...       ...       ...\n1481  6532021  C# MINOR\n1482  6535130   E MINOR\n1483  6537998   E MAJOR\n1484  6563157   B MINOR\n1485  6574410   A MAJOR\n\n[1390 rows x 2 columns]",
      "text/html": "<div>\n<style scoped>\n    .dataframe tbody tr th:only-of-type {\n        vertical-align: middle;\n    }\n\n    .dataframe tbody tr th {\n        vertical-align: top;\n    }\n\n    .dataframe thead th {\n        text-align: right;\n    }\n</style>\n<table border=\"1\" class=\"dataframe\">\n  <thead>\n    <tr style=\"text-align: right;\">\n      <th></th>\n      <th>ID</th>\n      <th>KEY</th>\n    </tr>\n  </thead>\n  <tbody>\n    <tr>\n      <th>0</th>\n      <td>5061</td>\n      <td>D# MINOR</td>\n    </tr>\n    <tr>\n      <th>1</th>\n      <td>5881</td>\n      <td>A MAJOR</td>\n    </tr>\n    <tr>\n      <th>2</th>\n      <td>7217</td>\n      <td>F MINOR</td>\n    </tr>\n    <tr>\n      <th>3</th>\n      <td>10359</td>\n      <td>D MINOR</td>\n    </tr>\n    <tr>\n      <th>5</th>\n      <td>11077</td>\n      <td>G MINOR</td>\n    </tr>\n    <tr>\n      <th>...</th>\n      <td>...</td>\n      <td>...</td>\n    </tr>\n    <tr>\n      <th>1481</th>\n      <td>6532021</td>\n      <td>C# MINOR</td>\n    </tr>\n    <tr>\n      <th>1482</th>\n      <td>6535130</td>\n      <td>E MINOR</td>\n    </tr>\n    <tr>\n      <th>1483</th>\n      <td>6537998</td>\n      <td>E MAJOR</td>\n    </tr>\n    <tr>\n      <th>1484</th>\n      <td>6563157</td>\n      <td>B MINOR</td>\n    </tr>\n    <tr>\n      <th>1485</th>\n      <td>6574410</td>\n      <td>A MAJOR</td>\n    </tr>\n  </tbody>\n</table>\n<p>1390 rows × 2 columns</p>\n</div>"
     },
     "execution_count": 9,
     "metadata": {},
     "output_type": "execute_result"
    }
   ],
   "source": [
    "allAnnotations"
   ],
   "metadata": {
    "pycharm": {
     "name": "#%%\n"
    }
   }
  },
  {
   "cell_type": "markdown",
   "source": [
    "Now we have to reindex the rows of the dataframe, as some rows have been removed during the data augmentation step above.\n"
   ],
   "metadata": {
    "pycharm": {
     "name": "#%% md\n"
    }
   }
  },
  {
   "cell_type": "code",
   "execution_count": 10,
   "outputs": [
    {
     "data": {
      "text/plain": "           ID       KEY\n0        5061  D# MINOR\n1        5881   A MAJOR\n2        7217   F MINOR\n3       10359   D MINOR\n4       11077   G MINOR\n...       ...       ...\n1385  6532021  C# MINOR\n1386  6535130   E MINOR\n1387  6537998   E MAJOR\n1388  6563157   B MINOR\n1389  6574410   A MAJOR\n\n[1390 rows x 2 columns]",
      "text/html": "<div>\n<style scoped>\n    .dataframe tbody tr th:only-of-type {\n        vertical-align: middle;\n    }\n\n    .dataframe tbody tr th {\n        vertical-align: top;\n    }\n\n    .dataframe thead th {\n        text-align: right;\n    }\n</style>\n<table border=\"1\" class=\"dataframe\">\n  <thead>\n    <tr style=\"text-align: right;\">\n      <th></th>\n      <th>ID</th>\n      <th>KEY</th>\n    </tr>\n  </thead>\n  <tbody>\n    <tr>\n      <th>0</th>\n      <td>5061</td>\n      <td>D# MINOR</td>\n    </tr>\n    <tr>\n      <th>1</th>\n      <td>5881</td>\n      <td>A MAJOR</td>\n    </tr>\n    <tr>\n      <th>2</th>\n      <td>7217</td>\n      <td>F MINOR</td>\n    </tr>\n    <tr>\n      <th>3</th>\n      <td>10359</td>\n      <td>D MINOR</td>\n    </tr>\n    <tr>\n      <th>4</th>\n      <td>11077</td>\n      <td>G MINOR</td>\n    </tr>\n    <tr>\n      <th>...</th>\n      <td>...</td>\n      <td>...</td>\n    </tr>\n    <tr>\n      <th>1385</th>\n      <td>6532021</td>\n      <td>C# MINOR</td>\n    </tr>\n    <tr>\n      <th>1386</th>\n      <td>6535130</td>\n      <td>E MINOR</td>\n    </tr>\n    <tr>\n      <th>1387</th>\n      <td>6537998</td>\n      <td>E MAJOR</td>\n    </tr>\n    <tr>\n      <th>1388</th>\n      <td>6563157</td>\n      <td>B MINOR</td>\n    </tr>\n    <tr>\n      <th>1389</th>\n      <td>6574410</td>\n      <td>A MAJOR</td>\n    </tr>\n  </tbody>\n</table>\n<p>1390 rows × 2 columns</p>\n</div>"
     },
     "execution_count": 10,
     "metadata": {},
     "output_type": "execute_result"
    }
   ],
   "source": [
    "allAnnotations.reset_index(drop=True, inplace=True)  # We don't want the old index being added to the dataframe\n",
    "allAnnotations"
   ],
   "metadata": {
    "pycharm": {
     "name": "#%%\n"
    }
   }
  },
  {
   "cell_type": "markdown",
   "source": [
    "Let's now further process the `KEY` column.\n",
    "\n",
    "We first define a helper function that determines what the numeric value of each music key will be.\n",
    "- For example, the key of `C major` will have the numeric value of `0`, `C♯ major` has the numeric value `7`, and `C♭ major` will have the numeric value of `-7`."
   ],
   "metadata": {
    "pycharm": {
     "name": "#%% md\n"
    }
   }
  },
  {
   "cell_type": "code",
   "execution_count": 11,
   "outputs": [],
   "source": [
    "def fancify_music_string(music_key):\n",
    "    return music_key.replace(\"#\", \"♯\").replace(\"b\", \"♭\")\n",
    "\n",
    "def get_numeric_value(music_key):\n",
    "    # Fancify music string\n",
    "    music_key = fancify_music_string(music_key)\n",
    "\n",
    "    # Ensure the music key is in title case\n",
    "    music_key = music_key.title()\n",
    "\n",
    "    # Now we have the horrifying `if` cases to get numeric value\n",
    "    if music_key in [\"C♭ Major\", \"A♭ Minor\"]:\n",
    "        return -7\n",
    "    elif music_key in [\"G♭ Major\", \"E♭ Minor\"]:\n",
    "        return -6\n",
    "    elif music_key in [\"D♭ Major\", \"B♭ Minor\"]:\n",
    "        return -5\n",
    "    elif music_key in [\"A♭ Major\", \"F Minor\"]:\n",
    "        return -4\n",
    "    elif music_key in [\"E♭ Major\", \"C Minor\"]:\n",
    "        return -3\n",
    "    elif music_key in [\"B♭ Major\", \"G Minor\"]:\n",
    "        return -2\n",
    "    elif music_key in [\"F Major\", \"D Minor\"]:\n",
    "        return -1\n",
    "    elif music_key in [\"C Major\", \"A Minor\"]:\n",
    "        return 0\n",
    "    elif music_key in [\"G Major\", \"E Minor\"]:\n",
    "        return 1\n",
    "    elif music_key in [\"D Major\", \"B Minor\"]:\n",
    "        return 2\n",
    "    elif music_key in [\"A Major\", \"F♯ Minor\"]:\n",
    "        return 3\n",
    "    elif music_key in [\"E Major\", \"C♯ Minor\"]:\n",
    "        return 4\n",
    "    elif music_key in [\"B Major\", \"G♯ Minor\"]:\n",
    "        return 5\n",
    "    elif music_key in [\"F♯ Major\", \"D♯ Minor\"]:\n",
    "        return 6\n",
    "    elif music_key in [\"C♯ Major\", \"A♯ Minor\"]:\n",
    "        return 7\n",
    "    else:\n",
    "        raise ValueError(f\"Unknown key {music_key}\")\n"
   ],
   "metadata": {
    "pycharm": {
     "name": "#%%\n"
    }
   }
  },
  {
   "cell_type": "markdown",
   "source": [
    "We now split the `MANUAL KEY` column into a `NUMERIC KEY` column and a `MODE` column.\n",
    "- The `NUMERIC KEY` column will contain numeric value of the home key.\n",
    "- The `MODE` column will contain either `MAJOR` or `MINOR`."
   ],
   "metadata": {
    "pycharm": {
     "name": "#%% md\n"
    }
   }
  },
  {
   "cell_type": "code",
   "execution_count": 12,
   "outputs": [],
   "source": [
    "numRows = len(allAnnotations)\n",
    "\n",
    "for index in range(numRows):\n",
    "    # Get the \"KEY\" column's value\n",
    "    key = allAnnotations.iloc[index][\"KEY\"]\n",
    "\n",
    "    # Get numeric value of the key\n",
    "    try:\n",
    "        numVal = get_numeric_value(key)\n",
    "    except ValueError:\n",
    "        numVal = -1234  # Marks invalid\n",
    "\n",
    "    # Determine the mode of the key\n",
    "    mode = key.split(\" \")[1].upper()\n",
    "\n",
    "    # Update the dataframe\n",
    "    allAnnotations.loc[index, \"NUMERIC KEY\"] = numVal\n",
    "    allAnnotations.loc[index, \"MODE\"] = mode\n",
    "\n",
    "# Drop any row with no \"NUMERIC KEY\" value\n",
    "allAnnotations.drop(allAnnotations[allAnnotations[\"NUMERIC KEY\"] == -1234].index, inplace=True)\n",
    "allAnnotations = allAnnotations.astype({\"NUMERIC KEY\": int})\n",
    "\n",
    "# Drop the \"KEY\" column\n",
    "allAnnotations.drop(columns=\"KEY\", inplace=True)"
   ],
   "metadata": {
    "pycharm": {
     "name": "#%%\n"
    }
   }
  },
  {
   "cell_type": "markdown",
   "source": [
    "Let's see the updated annotations dataframe."
   ],
   "metadata": {
    "pycharm": {
     "name": "#%% md\n"
    }
   }
  },
  {
   "cell_type": "code",
   "execution_count": 13,
   "outputs": [
    {
     "data": {
      "text/plain": "           ID  NUMERIC KEY   MODE\n0        5061            6  MINOR\n1        5881            3  MAJOR\n2        7217           -4  MINOR\n3       10359           -1  MINOR\n4       11077           -2  MINOR\n...       ...          ...    ...\n1269  6532021            4  MINOR\n1270  6535130            1  MINOR\n1271  6537998            4  MAJOR\n1272  6563157            2  MINOR\n1273  6574410            3  MAJOR\n\n[1274 rows x 3 columns]",
      "text/html": "<div>\n<style scoped>\n    .dataframe tbody tr th:only-of-type {\n        vertical-align: middle;\n    }\n\n    .dataframe tbody tr th {\n        vertical-align: top;\n    }\n\n    .dataframe thead th {\n        text-align: right;\n    }\n</style>\n<table border=\"1\" class=\"dataframe\">\n  <thead>\n    <tr style=\"text-align: right;\">\n      <th></th>\n      <th>ID</th>\n      <th>NUMERIC KEY</th>\n      <th>MODE</th>\n    </tr>\n  </thead>\n  <tbody>\n    <tr>\n      <th>0</th>\n      <td>5061</td>\n      <td>6</td>\n      <td>MINOR</td>\n    </tr>\n    <tr>\n      <th>1</th>\n      <td>5881</td>\n      <td>3</td>\n      <td>MAJOR</td>\n    </tr>\n    <tr>\n      <th>2</th>\n      <td>7217</td>\n      <td>-4</td>\n      <td>MINOR</td>\n    </tr>\n    <tr>\n      <th>3</th>\n      <td>10359</td>\n      <td>-1</td>\n      <td>MINOR</td>\n    </tr>\n    <tr>\n      <th>4</th>\n      <td>11077</td>\n      <td>-2</td>\n      <td>MINOR</td>\n    </tr>\n    <tr>\n      <th>...</th>\n      <td>...</td>\n      <td>...</td>\n      <td>...</td>\n    </tr>\n    <tr>\n      <th>1269</th>\n      <td>6532021</td>\n      <td>4</td>\n      <td>MINOR</td>\n    </tr>\n    <tr>\n      <th>1270</th>\n      <td>6535130</td>\n      <td>1</td>\n      <td>MINOR</td>\n    </tr>\n    <tr>\n      <th>1271</th>\n      <td>6537998</td>\n      <td>4</td>\n      <td>MAJOR</td>\n    </tr>\n    <tr>\n      <th>1272</th>\n      <td>6563157</td>\n      <td>2</td>\n      <td>MINOR</td>\n    </tr>\n    <tr>\n      <th>1273</th>\n      <td>6574410</td>\n      <td>3</td>\n      <td>MAJOR</td>\n    </tr>\n  </tbody>\n</table>\n<p>1274 rows × 3 columns</p>\n</div>"
     },
     "execution_count": 13,
     "metadata": {},
     "output_type": "execute_result"
    }
   ],
   "source": [
    "allAnnotations.reset_index(drop=True, inplace=True)  # We don't want the old index being added to the dataframe\n",
    "allAnnotations"
   ],
   "metadata": {
    "pycharm": {
     "name": "#%%\n"
    }
   }
  },
  {
   "cell_type": "markdown",
   "source": [
    "We now need to keep only the IDs where we have both an audio file and an annotation match."
   ],
   "metadata": {
    "pycharm": {
     "name": "#%% md\n"
    }
   }
  },
  {
   "cell_type": "code",
   "execution_count": 14,
   "outputs": [],
   "source": [
    "# Get all IDs\n",
    "audioFileIDs = set(int(x.split(\".\")[0]) for x in audioFiles)\n",
    "annotationFileIDs = set(allAnnotations[\"ID\"].to_list())\n",
    "\n",
    "# Find their intersection\n",
    "relevantIDs = audioFileIDs.intersection(annotationFileIDs)"
   ],
   "metadata": {
    "pycharm": {
     "name": "#%%\n"
    }
   }
  },
  {
   "cell_type": "markdown",
   "source": [
    "What are these relevant IDs?\n"
   ],
   "metadata": {
    "pycharm": {
     "name": "#%% md\n"
    }
   }
  },
  {
   "cell_type": "code",
   "execution_count": 15,
   "outputs": [
    {
     "data": {
      "text/plain": "{37745,\n 167955,\n 297261,\n 297273,\n 297494,\n 297501,\n 297541,\n 299482,\n 299767,\n 299862,\n 299932,\n 299995,\n 718543,\n 1115626,\n 1196189,\n 1410568,\n 3198699,\n 4917696,\n 5324261,\n 5497183,\n 5943904}"
     },
     "execution_count": 15,
     "metadata": {},
     "output_type": "execute_result"
    }
   ],
   "source": [
    "relevantIDs"
   ],
   "metadata": {
    "pycharm": {
     "name": "#%%\n"
    }
   }
  },
  {
   "cell_type": "markdown",
   "source": [
    "Now keep audio files and annotation data that is relevant to us."
   ],
   "metadata": {
    "pycharm": {
     "name": "#%% md\n"
    }
   }
  },
  {
   "cell_type": "code",
   "execution_count": 16,
   "outputs": [],
   "source": [
    "relevantAudioFiles = []\n",
    "for filename in audioFiles:\n",
    "    if int(filename.split(\".\")[0]) in relevantIDs:\n",
    "        relevantAudioFiles.append(filename)\n",
    "\n",
    "relevantAnnotations = allAnnotations[allAnnotations[\"ID\"].isin(relevantIDs)]\n",
    "relevantAnnotations.reset_index(drop=True, inplace=True)"
   ],
   "metadata": {
    "pycharm": {
     "name": "#%%\n"
    }
   }
  },
  {
   "cell_type": "markdown",
   "source": [
    "Display this data."
   ],
   "metadata": {
    "pycharm": {
     "name": "#%% md\n"
    }
   }
  },
  {
   "cell_type": "code",
   "execution_count": 17,
   "outputs": [
    {
     "data": {
      "text/plain": "['299482.LOFI.mp3',\n '297501.LOFI.mp3',\n '5324261.LOFI.mp3',\n '299995.LOFI.mp3',\n '718543.LOFI.mp3',\n '3198699.LOFI.mp3',\n '299932.LOFI.mp3',\n '167955.LOFI.mp3',\n '297261.LOFI.mp3',\n '299862.LOFI.mp3',\n '4917696.LOFI.mp3',\n '5943904.LOFI.mp3',\n '5497183.LOFI.mp3',\n '1196189.LOFI.mp3',\n '297541.LOFI.mp3',\n '297273.LOFI.mp3',\n '37745.LOFI.mp3',\n '1115626.LOFI.mp3',\n '297494.LOFI.mp3',\n '1410568.LOFI.mp3',\n '299767.LOFI.mp3']"
     },
     "execution_count": 17,
     "metadata": {},
     "output_type": "execute_result"
    }
   ],
   "source": [
    "relevantAudioFiles"
   ],
   "metadata": {
    "pycharm": {
     "name": "#%%\n"
    }
   }
  },
  {
   "cell_type": "code",
   "execution_count": 18,
   "outputs": [
    {
     "data": {
      "text/plain": "         ID  NUMERIC KEY   MODE\n0     37745            1  MINOR\n1    167955            4  MAJOR\n2    297261           -1  MINOR\n3    297273           -2  MINOR\n4    297494            1  MINOR\n5    297501           -4  MINOR\n6    297541            6  MINOR\n7    299482            3  MAJOR\n8    299767           -3  MINOR\n9    299862            5  MAJOR\n10   299932           -1  MAJOR\n11   299995            3  MAJOR\n12   718543            6  MAJOR\n13  1115626            1  MAJOR\n14  1196189           -2  MINOR\n15  1410568            4  MINOR\n16  3198699           -3  MINOR\n17  4917696            5  MINOR\n18  5324261           -2  MINOR\n19  5497183            5  MAJOR\n20  5943904            1  MAJOR",
      "text/html": "<div>\n<style scoped>\n    .dataframe tbody tr th:only-of-type {\n        vertical-align: middle;\n    }\n\n    .dataframe tbody tr th {\n        vertical-align: top;\n    }\n\n    .dataframe thead th {\n        text-align: right;\n    }\n</style>\n<table border=\"1\" class=\"dataframe\">\n  <thead>\n    <tr style=\"text-align: right;\">\n      <th></th>\n      <th>ID</th>\n      <th>NUMERIC KEY</th>\n      <th>MODE</th>\n    </tr>\n  </thead>\n  <tbody>\n    <tr>\n      <th>0</th>\n      <td>37745</td>\n      <td>1</td>\n      <td>MINOR</td>\n    </tr>\n    <tr>\n      <th>1</th>\n      <td>167955</td>\n      <td>4</td>\n      <td>MAJOR</td>\n    </tr>\n    <tr>\n      <th>2</th>\n      <td>297261</td>\n      <td>-1</td>\n      <td>MINOR</td>\n    </tr>\n    <tr>\n      <th>3</th>\n      <td>297273</td>\n      <td>-2</td>\n      <td>MINOR</td>\n    </tr>\n    <tr>\n      <th>4</th>\n      <td>297494</td>\n      <td>1</td>\n      <td>MINOR</td>\n    </tr>\n    <tr>\n      <th>5</th>\n      <td>297501</td>\n      <td>-4</td>\n      <td>MINOR</td>\n    </tr>\n    <tr>\n      <th>6</th>\n      <td>297541</td>\n      <td>6</td>\n      <td>MINOR</td>\n    </tr>\n    <tr>\n      <th>7</th>\n      <td>299482</td>\n      <td>3</td>\n      <td>MAJOR</td>\n    </tr>\n    <tr>\n      <th>8</th>\n      <td>299767</td>\n      <td>-3</td>\n      <td>MINOR</td>\n    </tr>\n    <tr>\n      <th>9</th>\n      <td>299862</td>\n      <td>5</td>\n      <td>MAJOR</td>\n    </tr>\n    <tr>\n      <th>10</th>\n      <td>299932</td>\n      <td>-1</td>\n      <td>MAJOR</td>\n    </tr>\n    <tr>\n      <th>11</th>\n      <td>299995</td>\n      <td>3</td>\n      <td>MAJOR</td>\n    </tr>\n    <tr>\n      <th>12</th>\n      <td>718543</td>\n      <td>6</td>\n      <td>MAJOR</td>\n    </tr>\n    <tr>\n      <th>13</th>\n      <td>1115626</td>\n      <td>1</td>\n      <td>MAJOR</td>\n    </tr>\n    <tr>\n      <th>14</th>\n      <td>1196189</td>\n      <td>-2</td>\n      <td>MINOR</td>\n    </tr>\n    <tr>\n      <th>15</th>\n      <td>1410568</td>\n      <td>4</td>\n      <td>MINOR</td>\n    </tr>\n    <tr>\n      <th>16</th>\n      <td>3198699</td>\n      <td>-3</td>\n      <td>MINOR</td>\n    </tr>\n    <tr>\n      <th>17</th>\n      <td>4917696</td>\n      <td>5</td>\n      <td>MINOR</td>\n    </tr>\n    <tr>\n      <th>18</th>\n      <td>5324261</td>\n      <td>-2</td>\n      <td>MINOR</td>\n    </tr>\n    <tr>\n      <th>19</th>\n      <td>5497183</td>\n      <td>5</td>\n      <td>MAJOR</td>\n    </tr>\n    <tr>\n      <th>20</th>\n      <td>5943904</td>\n      <td>1</td>\n      <td>MAJOR</td>\n    </tr>\n  </tbody>\n</table>\n</div>"
     },
     "execution_count": 18,
     "metadata": {},
     "output_type": "execute_result"
    }
   ],
   "source": [
    "relevantAnnotations"
   ],
   "metadata": {
    "pycharm": {
     "name": "#%%\n"
    }
   }
  },
  {
   "cell_type": "markdown",
   "source": [
    "## An Aside: Data Analysis"
   ],
   "metadata": {
    "pycharm": {
     "name": "#%% md\n"
    }
   }
  },
  {
   "cell_type": "markdown",
   "source": [
    "Before we actually process the data, it is interesting to discover what our data actually contains.\n",
    "\n",
    "Let's first count the number of each distinct numeric key value."
   ],
   "metadata": {
    "pycharm": {
     "name": "#%% md\n"
    }
   }
  },
  {
   "cell_type": "code",
   "execution_count": 19,
   "outputs": [
    {
     "data": {
      "text/plain": "<AxesSubplot:xlabel='NUMERIC KEY', ylabel='count'>"
     },
     "execution_count": 19,
     "metadata": {},
     "output_type": "execute_result"
    },
    {
     "data": {
      "text/plain": "<Figure size 1008x576 with 1 Axes>",
      "image/png": "[encoded data removed]"
     },
     "metadata": {
      "needs_background": "light"
     },
     "output_type": "display_data"
    }
   ],
   "source": [
    "import seaborn as sns\n",
    "sns.countplot(data=allAnnotations, x=\"NUMERIC KEY\", order=allAnnotations[\"NUMERIC KEY\"].value_counts().index)"
   ],
   "metadata": {
    "pycharm": {
     "name": "#%%\n"
    }
   }
  },
  {
   "cell_type": "markdown",
   "source": [
    "What about the number of each type of mode?"
   ],
   "metadata": {
    "pycharm": {
     "name": "#%% md\n"
    }
   }
  },
  {
   "cell_type": "code",
   "execution_count": 20,
   "outputs": [
    {
     "data": {
      "text/plain": "<AxesSubplot:xlabel='MODE', ylabel='count'>"
     },
     "execution_count": 20,
     "metadata": {},
     "output_type": "execute_result"
    },
    {
     "data": {
      "text/plain": "<Figure size 1008x576 with 1 Axes>",
      "image/png": "[encoded data removed]"
     },
     "metadata": {
      "needs_background": "light"
     },
     "output_type": "display_data"
    }
   ],
   "source": [
    "sns.countplot(data=allAnnotations, x=\"MODE\", order=allAnnotations[\"MODE\"].value_counts().index)"
   ],
   "metadata": {
    "pycharm": {
     "name": "#%%\n"
    }
   }
  },
  {
   "cell_type": "markdown",
   "source": [
    "If a program simply guessed the most common numeric key and most common mode, how accurate would it be?\n",
    "\n",
    "(This assumes that numeric key and mode are independent, but this may not be true.)"
   ],
   "metadata": {
    "pycharm": {
     "name": "#%% md\n"
    }
   }
  },
  {
   "cell_type": "code",
   "execution_count": 21,
   "outputs": [
    {
     "name": "stdout",
     "output_type": "stream",
     "text": [
      "Guess most common numeric key value: 8.556%\n",
      "Guess most common mode:              73.862%\n",
      "Guess both numeric key and mode:     6.319%\n"
     ]
    }
   ],
   "source": [
    "numKeyOnly = allAnnotations[\"NUMERIC KEY\"].value_counts()[0] / allAnnotations[\"NUMERIC KEY\"].count()\n",
    "modeOnly = allAnnotations[\"MODE\"].value_counts()[0] / allAnnotations[\"MODE\"].count()\n",
    "\n",
    "print(f\"Guess most common numeric key value: {numKeyOnly * 100:.3f}%\")\n",
    "print(f\"Guess most common mode:              {modeOnly * 100:.3f}%\")\n",
    "print(f\"Guess both numeric key and mode:     {numKeyOnly * modeOnly * 100:.3f}%\")"
   ],
   "metadata": {
    "pycharm": {
     "name": "#%%\n"
    }
   }
  },
  {
   "cell_type": "markdown",
   "source": [
    "## Helper Functions\n"
   ],
   "metadata": {
    "pycharm": {
     "name": "#%% md\n"
    }
   }
  },
  {
   "cell_type": "code",
   "execution_count": 22,
   "outputs": [],
   "source": [
    "import librosa\n",
    "import numpy as np\n",
    "\n",
    "def note_number_to_freq(note_number: int) -> float:\n",
    "    \"\"\"Converts a note number (with C0 = 0) to a frequency.\"\"\"\n",
    "    return 2 ** ((note_number - 57) / 12) * 440\n",
    "\n",
    "\n",
    "def samples_to_vqt(sample_rate: float, samples: np.array, hop_length: int = 1024, f_min=note_number_to_freq(0),\n",
    "                   n_bins: int = 240, bins_per_octave=24):\n",
    "\n",
    "    # Generate the VQT of the audio file\n",
    "    vqt = librosa.vqt(samples, sr=sample_rate, hop_length=hop_length, fmin=f_min, n_bins=n_bins,\n",
    "                      bins_per_octave=bins_per_octave)\n",
    "\n",
    "    # Keep only the magnitude of the complex numbers from the VQT\n",
    "    vqt = np.abs(vqt)\n",
    "\n",
    "    # Return the VQT\n",
    "    return vqt\n",
    "\n",
    "def generate_vqt(audio_file):\n",
    "    # Generate the path to the audio file\n",
    "    path = AUDIO_DATA_FOLDER / audio_file\n",
    "\n",
    "    # Get the audio samples from the file\n",
    "    y, sr = librosa.load(str(path.absolute()), sr=None)\n",
    "\n",
    "    # Get VQT magnitudes\n",
    "    mags = samples_to_vqt(sr, y)\n",
    "\n",
    "    # Return the magnitudes\n",
    "    return mags\n"
   ],
   "metadata": {
    "pycharm": {
     "name": "#%%\n"
    }
   }
  }
 ],
 "metadata": {},
 "nbformat": 4,
 "nbformat_minor": 0
}