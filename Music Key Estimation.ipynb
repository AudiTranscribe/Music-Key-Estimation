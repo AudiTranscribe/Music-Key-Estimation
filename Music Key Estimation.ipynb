{
 "cells": [
  {
   "cell_type": "markdown",
   "source": [
    "# Music Key Estimation\n",
    "Based off the work of Schreiber and Müller. Full citation follows.\n",
    "> Hendrik Schreiber and Meinard Müller, [Musical Tempo and Key Estimation using Convolutional Neural Networks with Directional Filters](http://smc2019.uma.es/articles/P1/P1_07_SMC2019_paper.pdf), In Proceedings of the Sound and Music Computing Conference (SMC), Málaga, Spain, May 2019.\n"
   ],
   "metadata": {
    "collapsed": false,
    "pycharm": {
     "name": "#%% md\n"
    }
   }
  },
  {
   "cell_type": "markdown",
   "source": [
    "## Imports"
   ],
   "metadata": {
    "collapsed": false,
    "pycharm": {
     "name": "#%% md\n"
    }
   }
  },
  {
   "cell_type": "code",
   "execution_count": 1,
   "outputs": [],
   "source": [
    "import os\n",
    "import pathlib\n",
    "\n",
    "import matplotlib.pyplot as plt\n",
    "import pandas\n",
    "\n",
    "from matplotlib import rcParams"
   ],
   "metadata": {
    "collapsed": false,
    "pycharm": {
     "name": "#%%\n"
    }
   }
  },
  {
   "cell_type": "markdown",
   "source": [
    "## Constants\n"
   ],
   "metadata": {
    "collapsed": false,
    "pycharm": {
     "name": "#%% md\n"
    }
   }
  },
  {
   "cell_type": "code",
   "execution_count": 2,
   "outputs": [],
   "source": [
    "DATA_FOLDER = pathlib.Path(\"data\")\n",
    "AUDIO_DATA = pathlib.Path(\"data/audio\")"
   ],
   "metadata": {
    "collapsed": false,
    "pycharm": {
     "name": "#%%\n"
    }
   }
  },
  {
   "cell_type": "markdown",
   "source": [
    "## Notebook Setup"
   ],
   "metadata": {
    "collapsed": false,
    "pycharm": {
     "name": "#%% md\n"
    }
   }
  },
  {
   "cell_type": "code",
   "execution_count": 3,
   "outputs": [],
   "source": [
    "%matplotlib inline\n",
    "\n",
    "rcParams[\"figure.figsize\"] = 14, 8  # In inches"
   ],
   "metadata": {
    "collapsed": false,
    "pycharm": {
     "name": "#%%\n"
    }
   }
  },
  {
   "cell_type": "markdown",
   "source": [
    "## Obtaining Data\n"
   ],
   "metadata": {
    "collapsed": false,
    "pycharm": {
     "name": "#%% md\n"
    }
   }
  },
  {
   "cell_type": "markdown",
   "source": [
    "Let's get all the audio files within the data folder."
   ],
   "metadata": {
    "collapsed": false,
    "pycharm": {
     "name": "#%% md\n"
    }
   }
  },
  {
   "cell_type": "code",
   "execution_count": 4,
   "outputs": [],
   "source": [
    "allFiles = os.listdir(AUDIO_DATA)"
   ],
   "metadata": {
    "collapsed": false,
    "pycharm": {
     "name": "#%%\n"
    }
   }
  },
  {
   "cell_type": "markdown",
   "source": [
    "Let's get only the audio files present in the folder.\n"
   ],
   "metadata": {
    "collapsed": false,
    "pycharm": {
     "name": "#%% md\n"
    }
   }
  },
  {
   "cell_type": "code",
   "execution_count": 5,
   "outputs": [],
   "source": [
    "audioFiles = [x for x in allFiles if x.lower().endswith(\".mp3\")]"
   ],
   "metadata": {
    "collapsed": false,
    "pycharm": {
     "name": "#%%\n"
    }
   }
  },
  {
   "cell_type": "markdown",
   "source": [
    "Let's look at some of the audio files present."
   ],
   "metadata": {
    "collapsed": false,
    "pycharm": {
     "name": "#%% md\n"
    }
   }
  },
  {
   "cell_type": "code",
   "execution_count": 6,
   "outputs": [
    {
     "data": {
      "text/plain": "['74680.LOFI.mp3',\n '608572.LOFI.mp3',\n '5061.LOFI.mp3',\n '180779.LOFI.mp3',\n '299807.LOFI.mp3',\n '297886.LOFI.mp3',\n '1492875.LOFI.mp3',\n '4857871.LOFI.mp3',\n '6529435.LOFI.mp3',\n '3656502.LOFI.mp3']"
     },
     "execution_count": 6,
     "metadata": {},
     "output_type": "execute_result"
    }
   ],
   "source": [
    "audioFiles"
   ],
   "metadata": {
    "collapsed": false,
    "pycharm": {
     "name": "#%%\n"
    }
   }
  },
  {
   "cell_type": "markdown",
   "source": [
    "Now let's get the key annotations of the audio files.\n",
    "\n",
    "The key annotations are stored in a file named `annotations.txt`. However, it is formatted like a tab-separated values (TSV) file. Thus we shall read it in as a TSV file and process it.\n"
   ],
   "metadata": {
    "collapsed": false,
    "pycharm": {
     "name": "#%% md\n"
    }
   }
  },
  {
   "cell_type": "code",
   "execution_count": 7,
   "outputs": [],
   "source": [
    "allAnnotations = pandas.read_csv(DATA_FOLDER / \"annotations.txt\", sep=\"\\t\")"
   ],
   "metadata": {
    "collapsed": false,
    "pycharm": {
     "name": "#%%\n"
    }
   }
  },
  {
   "cell_type": "markdown",
   "source": [
    "Let's analyse the data.\n"
   ],
   "metadata": {
    "collapsed": false,
    "pycharm": {
     "name": "#%% md\n"
    }
   }
  },
  {
   "cell_type": "code",
   "execution_count": 8,
   "outputs": [
    {
     "data": {
      "text/plain": "           ID MANUAL KEY  C\n0        5061   D# minor  2\n1        5881    A major  2\n2        7217    F minor  2\n3       10359    D minor  2\n4       10981          -  0\n...       ...        ... ..\n1481  6532021   C# minor  1\n1482  6535130    E minor  2\n1483  6537998    E major  2\n1484  6563157    B minor  2\n1485  6574410    A major  2\n\n[1486 rows x 3 columns]",
      "text/html": "<div>\n<style scoped>\n    .dataframe tbody tr th:only-of-type {\n        vertical-align: middle;\n    }\n\n    .dataframe tbody tr th {\n        vertical-align: top;\n    }\n\n    .dataframe thead th {\n        text-align: right;\n    }\n</style>\n<table border=\"1\" class=\"dataframe\">\n  <thead>\n    <tr style=\"text-align: right;\">\n      <th></th>\n      <th>ID</th>\n      <th>MANUAL KEY</th>\n      <th>C</th>\n    </tr>\n  </thead>\n  <tbody>\n    <tr>\n      <th>0</th>\n      <td>5061</td>\n      <td>D# minor</td>\n      <td>2</td>\n    </tr>\n    <tr>\n      <th>1</th>\n      <td>5881</td>\n      <td>A major</td>\n      <td>2</td>\n    </tr>\n    <tr>\n      <th>2</th>\n      <td>7217</td>\n      <td>F minor</td>\n      <td>2</td>\n    </tr>\n    <tr>\n      <th>3</th>\n      <td>10359</td>\n      <td>D minor</td>\n      <td>2</td>\n    </tr>\n    <tr>\n      <th>4</th>\n      <td>10981</td>\n      <td>-</td>\n      <td>0</td>\n    </tr>\n    <tr>\n      <th>...</th>\n      <td>...</td>\n      <td>...</td>\n      <td>...</td>\n    </tr>\n    <tr>\n      <th>1481</th>\n      <td>6532021</td>\n      <td>C# minor</td>\n      <td>1</td>\n    </tr>\n    <tr>\n      <th>1482</th>\n      <td>6535130</td>\n      <td>E minor</td>\n      <td>2</td>\n    </tr>\n    <tr>\n      <th>1483</th>\n      <td>6537998</td>\n      <td>E major</td>\n      <td>2</td>\n    </tr>\n    <tr>\n      <th>1484</th>\n      <td>6563157</td>\n      <td>B minor</td>\n      <td>2</td>\n    </tr>\n    <tr>\n      <th>1485</th>\n      <td>6574410</td>\n      <td>A major</td>\n      <td>2</td>\n    </tr>\n  </tbody>\n</table>\n<p>1486 rows × 3 columns</p>\n</div>"
     },
     "execution_count": 8,
     "metadata": {},
     "output_type": "execute_result"
    }
   ],
   "source": [
    "allAnnotations"
   ],
   "metadata": {
    "collapsed": false,
    "pycharm": {
     "name": "#%%\n"
    }
   }
  },
  {
   "cell_type": "markdown",
   "source": [
    "Some things to note about the data:\n",
    "- Some rows do not have a `MANUAL KEY`. These rows need to be removed.\n",
    "- The `C` value is the *confidence value* of the key estimate. Higher confidence values means that the key value is more likely to be correct.\n",
    "    - Interestingly, rows without a manual key have a confidence value of `0`. This reveals a quick way to remove non-key rows.\n",
    "- Some rows have more than one `MANUAL KEY` (see row 47 with `ID = 61578`). For consistency, we shall pick the first key that appears in that `MANUAL KEY` column."
   ],
   "metadata": {
    "collapsed": false,
    "pycharm": {
     "name": "#%% md\n"
    }
   }
  },
  {
   "cell_type": "markdown",
   "source": [
    "After cleaning up the data, we can remove the `C` column as it is not helpful when we are estimating the key of the music.\n",
    "\n",
    "Let's run the processes described above.\n"
   ],
   "metadata": {
    "collapsed": false,
    "pycharm": {
     "name": "#%% md\n"
    }
   }
  },
  {
   "cell_type": "code",
   "execution_count": 9,
   "outputs": [],
   "source": [
    "# Handle the rows with more than one manual key\n",
    "numRows = len(allAnnotations)\n",
    "\n",
    "for index in range(numRows):\n",
    "    # Get the \"MANUAL KEY\" column's value\n",
    "    manualKey = allAnnotations.iloc[index][\"MANUAL KEY\"]\n",
    "\n",
    "    # Split the key entry by a forward slash (/)\n",
    "    manualKeys = manualKey.split(\"/\")\n",
    "\n",
    "    # Keep only the first key\n",
    "    manualKey = manualKeys[0]\n",
    "\n",
    "    # Update the dataframe, by adding a new \"KEY\" column in place of the \"MANUAL KEY\" column\n",
    "    allAnnotations.loc[index, \"KEY\"] = manualKey.upper()\n",
    "\n",
    "# Remove all rows with a confidence value of 0 (i.e. no manual key)\n",
    "allAnnotations.drop(allAnnotations[allAnnotations[\"C\"] == 0].index, inplace=True)\n",
    "\n",
    "# Remove the \"C\" and \"MANUAL KEY\" column\n",
    "allAnnotations.drop(columns=[\"C\", \"MANUAL KEY\"], inplace=True)"
   ],
   "metadata": {
    "collapsed": false,
    "pycharm": {
     "name": "#%%\n"
    }
   }
  },
  {
   "cell_type": "markdown",
   "source": [
    "Let's look at the updated data.\n"
   ],
   "metadata": {
    "collapsed": false,
    "pycharm": {
     "name": "#%% md\n"
    }
   }
  },
  {
   "cell_type": "code",
   "execution_count": 10,
   "outputs": [
    {
     "data": {
      "text/plain": "           ID       KEY\n0        5061  D# MINOR\n1        5881   A MAJOR\n2        7217   F MINOR\n3       10359   D MINOR\n5       11077   G MINOR\n...       ...       ...\n1481  6532021  C# MINOR\n1482  6535130   E MINOR\n1483  6537998   E MAJOR\n1484  6563157   B MINOR\n1485  6574410   A MAJOR\n\n[1390 rows x 2 columns]",
      "text/html": "<div>\n<style scoped>\n    .dataframe tbody tr th:only-of-type {\n        vertical-align: middle;\n    }\n\n    .dataframe tbody tr th {\n        vertical-align: top;\n    }\n\n    .dataframe thead th {\n        text-align: right;\n    }\n</style>\n<table border=\"1\" class=\"dataframe\">\n  <thead>\n    <tr style=\"text-align: right;\">\n      <th></th>\n      <th>ID</th>\n      <th>KEY</th>\n    </tr>\n  </thead>\n  <tbody>\n    <tr>\n      <th>0</th>\n      <td>5061</td>\n      <td>D# MINOR</td>\n    </tr>\n    <tr>\n      <th>1</th>\n      <td>5881</td>\n      <td>A MAJOR</td>\n    </tr>\n    <tr>\n      <th>2</th>\n      <td>7217</td>\n      <td>F MINOR</td>\n    </tr>\n    <tr>\n      <th>3</th>\n      <td>10359</td>\n      <td>D MINOR</td>\n    </tr>\n    <tr>\n      <th>5</th>\n      <td>11077</td>\n      <td>G MINOR</td>\n    </tr>\n    <tr>\n      <th>...</th>\n      <td>...</td>\n      <td>...</td>\n    </tr>\n    <tr>\n      <th>1481</th>\n      <td>6532021</td>\n      <td>C# MINOR</td>\n    </tr>\n    <tr>\n      <th>1482</th>\n      <td>6535130</td>\n      <td>E MINOR</td>\n    </tr>\n    <tr>\n      <th>1483</th>\n      <td>6537998</td>\n      <td>E MAJOR</td>\n    </tr>\n    <tr>\n      <th>1484</th>\n      <td>6563157</td>\n      <td>B MINOR</td>\n    </tr>\n    <tr>\n      <th>1485</th>\n      <td>6574410</td>\n      <td>A MAJOR</td>\n    </tr>\n  </tbody>\n</table>\n<p>1390 rows × 2 columns</p>\n</div>"
     },
     "execution_count": 10,
     "metadata": {},
     "output_type": "execute_result"
    }
   ],
   "source": [
    "allAnnotations"
   ],
   "metadata": {
    "collapsed": false,
    "pycharm": {
     "name": "#%%\n"
    }
   }
  },
  {
   "cell_type": "markdown",
   "source": [
    "Now we have to reindex the rows of the dataframe, as some rows have been removed during the data augmentation step above.\n"
   ],
   "metadata": {
    "collapsed": false,
    "pycharm": {
     "name": "#%% md\n"
    }
   }
  },
  {
   "cell_type": "code",
   "execution_count": 11,
   "outputs": [
    {
     "data": {
      "text/plain": "           ID       KEY\n0        5061  D# MINOR\n1        5881   A MAJOR\n2        7217   F MINOR\n3       10359   D MINOR\n4       11077   G MINOR\n...       ...       ...\n1385  6532021  C# MINOR\n1386  6535130   E MINOR\n1387  6537998   E MAJOR\n1388  6563157   B MINOR\n1389  6574410   A MAJOR\n\n[1390 rows x 2 columns]",
      "text/html": "<div>\n<style scoped>\n    .dataframe tbody tr th:only-of-type {\n        vertical-align: middle;\n    }\n\n    .dataframe tbody tr th {\n        vertical-align: top;\n    }\n\n    .dataframe thead th {\n        text-align: right;\n    }\n</style>\n<table border=\"1\" class=\"dataframe\">\n  <thead>\n    <tr style=\"text-align: right;\">\n      <th></th>\n      <th>ID</th>\n      <th>KEY</th>\n    </tr>\n  </thead>\n  <tbody>\n    <tr>\n      <th>0</th>\n      <td>5061</td>\n      <td>D# MINOR</td>\n    </tr>\n    <tr>\n      <th>1</th>\n      <td>5881</td>\n      <td>A MAJOR</td>\n    </tr>\n    <tr>\n      <th>2</th>\n      <td>7217</td>\n      <td>F MINOR</td>\n    </tr>\n    <tr>\n      <th>3</th>\n      <td>10359</td>\n      <td>D MINOR</td>\n    </tr>\n    <tr>\n      <th>4</th>\n      <td>11077</td>\n      <td>G MINOR</td>\n    </tr>\n    <tr>\n      <th>...</th>\n      <td>...</td>\n      <td>...</td>\n    </tr>\n    <tr>\n      <th>1385</th>\n      <td>6532021</td>\n      <td>C# MINOR</td>\n    </tr>\n    <tr>\n      <th>1386</th>\n      <td>6535130</td>\n      <td>E MINOR</td>\n    </tr>\n    <tr>\n      <th>1387</th>\n      <td>6537998</td>\n      <td>E MAJOR</td>\n    </tr>\n    <tr>\n      <th>1388</th>\n      <td>6563157</td>\n      <td>B MINOR</td>\n    </tr>\n    <tr>\n      <th>1389</th>\n      <td>6574410</td>\n      <td>A MAJOR</td>\n    </tr>\n  </tbody>\n</table>\n<p>1390 rows × 2 columns</p>\n</div>"
     },
     "execution_count": 11,
     "metadata": {},
     "output_type": "execute_result"
    }
   ],
   "source": [
    "allAnnotations.reset_index(drop=True, inplace=True)  # We don't want the old index being added to the dataframe\n",
    "allAnnotations"
   ],
   "metadata": {
    "collapsed": false,
    "pycharm": {
     "name": "#%%\n"
    }
   }
  },
  {
   "cell_type": "markdown",
   "source": [
    "We now need to keep only the IDs where we have both an audio file and an annotation match.\n"
   ],
   "metadata": {
    "collapsed": false,
    "pycharm": {
     "name": "#%% md\n"
    }
   }
  },
  {
   "cell_type": "code",
   "execution_count": 12,
   "outputs": [],
   "source": [
    "# Get all IDs\n",
    "audioFileIDs = set(int(x.split(\".\")[0]) for x in audioFiles)\n",
    "annotationFileIDs = set(allAnnotations[\"ID\"].to_list())\n",
    "\n",
    "# Find their intersection\n",
    "relevantIDs = audioFileIDs.intersection(annotationFileIDs)"
   ],
   "metadata": {
    "collapsed": false,
    "pycharm": {
     "name": "#%%\n"
    }
   }
  },
  {
   "cell_type": "markdown",
   "source": [
    "What are these relevant IDs?\n"
   ],
   "metadata": {
    "collapsed": false,
    "pycharm": {
     "name": "#%% md\n"
    }
   }
  },
  {
   "cell_type": "code",
   "execution_count": 13,
   "outputs": [
    {
     "data": {
      "text/plain": "{5061, 74680, 299807, 608572, 1492875, 4857871, 6529435}"
     },
     "execution_count": 13,
     "metadata": {},
     "output_type": "execute_result"
    }
   ],
   "source": [
    "relevantIDs"
   ],
   "metadata": {
    "collapsed": false,
    "pycharm": {
     "name": "#%%\n"
    }
   }
  },
  {
   "cell_type": "markdown",
   "source": [
    "Now keep audio files and annotation data that is relevant to us."
   ],
   "metadata": {
    "collapsed": false,
    "pycharm": {
     "name": "#%% md\n"
    }
   }
  },
  {
   "cell_type": "code",
   "execution_count": 14,
   "outputs": [],
   "source": [
    "relevantAudioFiles = []\n",
    "for filename in audioFiles:\n",
    "    if int(filename.split(\".\")[0]) in relevantIDs:\n",
    "        relevantAudioFiles.append(filename)\n",
    "\n",
    "relevantAnnotations = allAnnotations[allAnnotations[\"ID\"].isin(relevantIDs)]\n",
    "relevantAnnotations.reset_index(drop=True, inplace=True)"
   ],
   "metadata": {
    "collapsed": false,
    "pycharm": {
     "name": "#%%\n"
    }
   }
  },
  {
   "cell_type": "markdown",
   "source": [
    "Display this data."
   ],
   "metadata": {
    "collapsed": false,
    "pycharm": {
     "name": "#%% md\n"
    }
   }
  },
  {
   "cell_type": "code",
   "execution_count": 15,
   "outputs": [
    {
     "data": {
      "text/plain": "['74680.LOFI.mp3',\n '608572.LOFI.mp3',\n '5061.LOFI.mp3',\n '299807.LOFI.mp3',\n '1492875.LOFI.mp3',\n '4857871.LOFI.mp3',\n '6529435.LOFI.mp3']"
     },
     "execution_count": 15,
     "metadata": {},
     "output_type": "execute_result"
    }
   ],
   "source": [
    "relevantAudioFiles"
   ],
   "metadata": {
    "collapsed": false,
    "pycharm": {
     "name": "#%%\n"
    }
   }
  },
  {
   "cell_type": "code",
   "execution_count": 16,
   "outputs": [
    {
     "data": {
      "text/plain": "        ID       KEY\n0     5061  D# MINOR\n1    74680   A MINOR\n2   299807  D# MAJOR\n3   608572   D MAJOR\n4  1492875   C MINOR\n5  4857871  A# MAJOR\n6  6529435   C MINOR",
      "text/html": "<div>\n<style scoped>\n    .dataframe tbody tr th:only-of-type {\n        vertical-align: middle;\n    }\n\n    .dataframe tbody tr th {\n        vertical-align: top;\n    }\n\n    .dataframe thead th {\n        text-align: right;\n    }\n</style>\n<table border=\"1\" class=\"dataframe\">\n  <thead>\n    <tr style=\"text-align: right;\">\n      <th></th>\n      <th>ID</th>\n      <th>KEY</th>\n    </tr>\n  </thead>\n  <tbody>\n    <tr>\n      <th>0</th>\n      <td>5061</td>\n      <td>D# MINOR</td>\n    </tr>\n    <tr>\n      <th>1</th>\n      <td>74680</td>\n      <td>A MINOR</td>\n    </tr>\n    <tr>\n      <th>2</th>\n      <td>299807</td>\n      <td>D# MAJOR</td>\n    </tr>\n    <tr>\n      <th>3</th>\n      <td>608572</td>\n      <td>D MAJOR</td>\n    </tr>\n    <tr>\n      <th>4</th>\n      <td>1492875</td>\n      <td>C MINOR</td>\n    </tr>\n    <tr>\n      <th>5</th>\n      <td>4857871</td>\n      <td>A# MAJOR</td>\n    </tr>\n    <tr>\n      <th>6</th>\n      <td>6529435</td>\n      <td>C MINOR</td>\n    </tr>\n  </tbody>\n</table>\n</div>"
     },
     "execution_count": 16,
     "metadata": {},
     "output_type": "execute_result"
    }
   ],
   "source": [
    "relevantAnnotations"
   ],
   "metadata": {
    "collapsed": false,
    "pycharm": {
     "name": "#%%\n"
    }
   }
  },
  {
   "cell_type": "markdown",
   "source": [
    "## An Aside: Data Analysis"
   ],
   "metadata": {
    "collapsed": false,
    "pycharm": {
     "name": "#%% md\n"
    }
   }
  },
  {
   "cell_type": "markdown",
   "source": [
    "Before we actually process the data, it is interesting to discover what our data actually contains."
   ],
   "metadata": {
    "collapsed": false,
    "pycharm": {
     "name": "#%% md\n"
    }
   }
  },
  {
   "cell_type": "code",
   "execution_count": 17,
   "outputs": [
    {
     "data": {
      "text/plain": "(array([ 0,  1,  2,  3,  4,  5,  6,  7,  8,  9, 10, 11, 12, 13, 14, 15, 16,\n        17, 18, 19, 20, 21, 22, 23, 24, 25, 26, 27, 28, 29, 30, 31, 32, 33,\n        34, 35, 36, 37, 38, 39, 40, 41, 42, 43]),\n [Text(0, 0, 'C MINOR'),\n  Text(1, 0, 'F MINOR'),\n  Text(2, 0, 'E MINOR'),\n  Text(3, 0, 'D MINOR'),\n  Text(4, 0, 'C# MINOR'),\n  Text(5, 0, 'G MINOR'),\n  Text(6, 0, 'A MINOR'),\n  Text(7, 0, 'B MINOR'),\n  Text(8, 0, 'D# MINOR'),\n  Text(9, 0, 'F# MINOR'),\n  Text(10, 0, 'D MAJOR'),\n  Text(11, 0, 'A# MINOR'),\n  Text(12, 0, 'C# MAJOR'),\n  Text(13, 0, 'G# MAJOR'),\n  Text(14, 0, 'G# MINOR'),\n  Text(15, 0, 'G MAJOR'),\n  Text(16, 0, 'A# MAJOR'),\n  Text(17, 0, 'F# MAJOR'),\n  Text(18, 0, 'E MAJOR'),\n  Text(19, 0, 'F MAJOR'),\n  Text(20, 0, 'C MAJOR'),\n  Text(21, 0, 'D# MAJOR'),\n  Text(22, 0, 'A MAJOR'),\n  Text(23, 0, 'B MAJOR'),\n  Text(24, 0, 'F MINOR '),\n  Text(25, 0, 'C# MAJOR '),\n  Text(26, 0, 'E MAJOR '),\n  Text(27, 0, 'F MAJOR '),\n  Text(28, 0, 'B MAJOR '),\n  Text(29, 0, 'C MINOR '),\n  Text(30, 0, 'G# MINOR '),\n  Text(31, 0, 'A# MAJOR '),\n  Text(32, 0, 'B MINOR '),\n  Text(33, 0, 'A MINOR '),\n  Text(34, 0, 'G# MAJOR '),\n  Text(35, 0, 'G MINOR '),\n  Text(36, 0, 'C MAJOR '),\n  Text(37, 0, 'C# MINOR '),\n  Text(38, 0, 'F# MINOR '),\n  Text(39, 0, 'D# MINOR '),\n  Text(40, 0, 'A# MINOR '),\n  Text(41, 0, 'A MAJOR '),\n  Text(42, 0, 'D MAJOR '),\n  Text(43, 0, 'E MINOR ')])"
     },
     "execution_count": 17,
     "metadata": {},
     "output_type": "execute_result"
    },
    {
     "data": {
      "text/plain": "<Figure size 1008x576 with 1 Axes>",
      "image/png": "[encoded data removed]"
     },
     "metadata": {
      "needs_background": "light"
     },
     "output_type": "display_data"
    }
   ],
   "source": [
    "import seaborn as sns\n",
    "sns.countplot(data=allAnnotations, x=\"KEY\", order=allAnnotations[\"KEY\"].value_counts().index)\n",
    "plt.xticks(rotation=90)"
   ],
   "metadata": {
    "collapsed": false,
    "pycharm": {
     "name": "#%%\n"
    }
   }
  },
  {
   "cell_type": "markdown",
   "source": [
    "## Data Processing\n"
   ],
   "metadata": {
    "collapsed": false,
    "pycharm": {
     "name": "#%% md\n"
    }
   }
  },
  {
   "cell_type": "markdown",
   "source": [
    "### Part 1: Annotation Data Processing\n"
   ],
   "metadata": {
    "collapsed": false,
    "pycharm": {
     "name": "#%% md\n"
    }
   }
  },
  {
   "cell_type": "markdown",
   "source": [
    "We will assign each key (e.g. `D# minor`) to a unique vector.\n",
    "\n",
    "Assuming that we only consider major and (natural) minor scales, this means that we can encode each key as a 24 dimensional vector."
   ],
   "metadata": {
    "collapsed": false,
    "pycharm": {
     "name": "#%% md\n"
    }
   }
  },
  {
   "cell_type": "code",
   "execution_count": null,
   "outputs": [],
   "source": [
    "Todo add"
   ],
   "metadata": {
    "collapsed": false,
    "pycharm": {
     "name": "#%%\n"
    }
   }
  },
  {
   "cell_type": "markdown",
   "source": [
    "### Part 2: Audio Data Processing\n"
   ],
   "metadata": {
    "collapsed": false,
    "pycharm": {
     "name": "#%% md\n"
    }
   }
  },
  {
   "cell_type": "code",
   "execution_count": 17,
   "outputs": [],
   "source": [],
   "metadata": {
    "collapsed": false,
    "pycharm": {
     "name": "#%%\n"
    }
   }
  }
 ],
 "metadata": {
  "kernelspec": {
   "display_name": "Python 3",
   "language": "python",
   "name": "python3"
  },
  "language_info": {
   "codemirror_mode": {
    "name": "ipython",
    "version": 2
   },
   "file_extension": ".py",
   "mimetype": "text/x-python",
   "name": "python",
   "nbconvert_exporter": "python",
   "pygments_lexer": "ipython2",
   "version": "2.7.6"
  }
 },
 "nbformat": 4,
 "nbformat_minor": 0
}