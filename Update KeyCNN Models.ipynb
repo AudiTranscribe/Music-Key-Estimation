{
 "cells": [
  {
   "cell_type": "markdown",
   "source": [
    "# Update KeyCNN Models\n",
    "\n",
    "[![Open In Colab](https://colab.research.google.com/assets/colab-badge.svg)](https://colab.research.google.com/github/AudiTranscribe/Music-Key-Estimation/blob/main/Update%20KeyCNN%20Models.ipynb)\n",
    "\n",
    "This notebook helps update the KeyCNN models.\n",
    "\n",
    "The models referenced in the title are from the [KeyCNN Repository](https://github.com/hendriks73/key-cnn).\n",
    "```\n",
    "@inproceedings{SchreiberM19_CNNKeyTempo_SMC,\n",
    "   Title = {Musical Tempo and Key Estimation using Convolutional Neural Networks with Directional Filters},\n",
    "   Author = {Hendrik Schreiber and Meinard M{\\\"u}ller},\n",
    "   Booktitle = {Proceedings of the Sound and Music Computing Conference ({SMC})},\n",
    "   Pages = {47--54},\n",
    "   Year = {2019},\n",
    "   Address = {M{\\'a}laga, Spain}\n",
    "}\n",
    "```\n"
   ],
   "metadata": {
    "collapsed": false,
    "pycharm": {
     "name": "#%% md\n"
    },
    "id": "5Ty9bK0T2Xzr"
   }
  },
  {
   "cell_type": "markdown",
   "source": [
    "Helpful constants that will be used during the updating of the models.\n"
   ],
   "metadata": {
    "collapsed": false,
    "pycharm": {
     "name": "#%% md\n"
    },
    "id": "MV4tkR-R2Xzt"
   }
  },
  {
   "cell_type": "code",
   "execution_count": 1,
   "outputs": [],
   "source": [
    "ORIGINAL_MODEL_FILE = \"deepspec_k8.h5\"\n",
    "\n",
    "NEW_MODEL_FILE = \"Model.h5\"\n",
    "NEW_MODEL_NAME = \"DEEPSPEC_K8\""
   ],
   "metadata": {
    "pycharm": {
     "name": "#%%\n"
    },
    "id": "Nu6AjN6u2Xzt"
   }
  },
  {
   "cell_type": "markdown",
   "source": [
    "Let's first import Tensorflow and check its version.\n",
    "\n",
    "(The KeyCNN models were made in version 1.15.2, so we would ideally want to update them to a Tensorflow 2 version of the models.)"
   ],
   "metadata": {
    "collapsed": false,
    "pycharm": {
     "name": "#%% md\n"
    },
    "id": "8_YihYBz2Xzu"
   }
  },
  {
   "cell_type": "code",
   "execution_count": 2,
   "outputs": [
    {
     "output_type": "stream",
     "name": "stdout",
     "text": [
      "2.9.1\n"
     ]
    }
   ],
   "source": [
    "import tensorflow as tf\n",
    "\n",
    "print(tf.__version__)"
   ],
   "metadata": {
    "pycharm": {
     "name": "#%%\n"
    },
    "colab": {
     "base_uri": "https://localhost:8080/"
    },
    "id": "o_j_Ay-32Xzv",
    "outputId": "0c7761f1-97d7-48e8-92ad-c580f2c18adb"
   }
  },
  {
   "cell_type": "markdown",
   "source": [
    "Load the original model.\n"
   ],
   "metadata": {
    "collapsed": false,
    "pycharm": {
     "name": "#%% md\n"
    },
    "id": "lqQ7YtU52Xzv"
   }
  },
  {
   "cell_type": "code",
   "execution_count": 3,
   "outputs": [],
   "source": [
    "model = tf.keras.models.load_model(ORIGINAL_MODEL_FILE)"
   ],
   "metadata": {
    "pycharm": {
     "name": "#%%\n"
    },
    "id": "OGCwhMUa2Xzw"
   }
  },
  {
   "cell_type": "markdown",
   "source": [
    "What is the current name of the model?\n"
   ],
   "metadata": {
    "collapsed": false,
    "pycharm": {
     "name": "#%% md\n"
    },
    "id": "KflZ_9R02Xzw"
   }
  },
  {
   "cell_type": "code",
   "execution_count": 4,
   "outputs": [
    {
     "output_type": "execute_result",
     "data": {
      "text/plain": [
       "'vgg_like_in=(168__60__1)_out=24_filters=8_pool_shape=(2__2)_max=True_filter_shapes=[(5__1)__(3__1)]_dropout=0.1'"
      ],
      "application/vnd.google.colaboratory.intrinsic+json": {
       "type": "string"
      }
     },
     "metadata": {},
     "execution_count": 4
    }
   ],
   "source": [
    "model.name"
   ],
   "metadata": {
    "pycharm": {
     "name": "#%%\n"
    },
    "colab": {
     "base_uri": "https://localhost:8080/",
     "height": 35
    },
    "id": "TA_lWOri2Xzw",
    "outputId": "6ab8763e-ae42-49ca-e957-a73b76ba064c"
   }
  },
  {
   "cell_type": "markdown",
   "source": [
    "Tensorflow 2 does not like working with models with that name, so we need to rename the model.\n"
   ],
   "metadata": {
    "collapsed": false,
    "pycharm": {
     "name": "#%% md\n"
    },
    "id": "7_vPQBMc2Xzw"
   }
  },
  {
   "cell_type": "code",
   "execution_count": 5,
   "outputs": [],
   "source": [
    "model._name = NEW_MODEL_NAME"
   ],
   "metadata": {
    "pycharm": {
     "name": "#%%\n"
    },
    "id": "QaB53ao32Xzx"
   }
  },
  {
   "cell_type": "markdown",
   "source": [
    "Let's confirm that the model's name has indeed been updated:\n"
   ],
   "metadata": {
    "collapsed": false,
    "pycharm": {
     "name": "#%% md\n"
    },
    "id": "OqkJkHG92Xzx"
   }
  },
  {
   "cell_type": "code",
   "execution_count": 6,
   "outputs": [
    {
     "output_type": "execute_result",
     "data": {
      "text/plain": [
       "'DEEPSPEC_K8'"
      ],
      "application/vnd.google.colaboratory.intrinsic+json": {
       "type": "string"
      }
     },
     "metadata": {},
     "execution_count": 6
    }
   ],
   "source": [
    "model.name"
   ],
   "metadata": {
    "pycharm": {
     "name": "#%%\n"
    },
    "colab": {
     "base_uri": "https://localhost:8080/",
     "height": 35
    },
    "id": "3JQS4DS42Xzx",
    "outputId": "f7be40da-f8a8-42b1-bafe-e93dcf3b8223"
   }
  },
  {
   "cell_type": "markdown",
   "source": [
    "Let's also get a summary of the model.\n"
   ],
   "metadata": {
    "collapsed": false,
    "pycharm": {
     "name": "#%% md\n"
    },
    "id": "kvqSkILZ2Xzx"
   }
  },
  {
   "cell_type": "code",
   "execution_count": 7,
   "outputs": [
    {
     "output_type": "stream",
     "name": "stdout",
     "text": [
      "Model: \"DEEPSPEC_K8\"\n",
      "_________________________________________________________________\n",
      " Layer (type)                Output Shape              Param #   \n",
      "=================================================================\n",
      " input_106 (InputLayer)      [(None, 168, None, 1)]    0         \n",
      "                                                                 \n",
      " Conv0 (Conv2D)              (None, 168, None, 8)      48        \n",
      "                                                                 \n",
      " BN0 (BatchNormalization)    (None, 168, None, 8)      32        \n",
      "                                                                 \n",
      " Conv1 (Conv2D)              (None, 168, None, 8)      200       \n",
      "                                                                 \n",
      " BN1 (BatchNormalization)    (None, 168, None, 8)      32        \n",
      "                                                                 \n",
      " MaxPool2D1 (MaxPooling2D)   (None, 84, None, 8)       0         \n",
      "                                                                 \n",
      " dropout_630 (Dropout)       (None, 84, None, 8)       0         \n",
      "                                                                 \n",
      " Conv2 (Conv2D)              (None, 84, None, 16)      656       \n",
      "                                                                 \n",
      " BN2 (BatchNormalization)    (None, 84, None, 16)      64        \n",
      "                                                                 \n",
      " Conv3 (Conv2D)              (None, 84, None, 16)      784       \n",
      "                                                                 \n",
      " BN3 (BatchNormalization)    (None, 84, None, 16)      64        \n",
      "                                                                 \n",
      " MaxPool2D2 (MaxPooling2D)   (None, 42, None, 16)      0         \n",
      "                                                                 \n",
      " dropout_631 (Dropout)       (None, 42, None, 16)      0         \n",
      "                                                                 \n",
      " Conv4 (Conv2D)              (None, 42, None, 32)      2592      \n",
      "                                                                 \n",
      " BN4 (BatchNormalization)    (None, 42, None, 32)      128       \n",
      "                                                                 \n",
      " Conv5 (Conv2D)              (None, 42, None, 32)      3104      \n",
      "                                                                 \n",
      " BN5 (BatchNormalization)    (None, 42, None, 32)      128       \n",
      "                                                                 \n",
      " MaxPool2D3 (MaxPooling2D)   (None, 21, None, 32)      0         \n",
      "                                                                 \n",
      " dropout_632 (Dropout)       (None, 21, None, 32)      0         \n",
      "                                                                 \n",
      " Conv6 (Conv2D)              (None, 21, None, 32)      5152      \n",
      "                                                                 \n",
      " BN6 (BatchNormalization)    (None, 21, None, 32)      128       \n",
      "                                                                 \n",
      " Conv7 (Conv2D)              (None, 21, None, 32)      3104      \n",
      "                                                                 \n",
      " BN7 (BatchNormalization)    (None, 21, None, 32)      128       \n",
      "                                                                 \n",
      " MaxPool2D4 (MaxPooling2D)   (None, 10, None, 32)      0         \n",
      "                                                                 \n",
      " dropout_633 (Dropout)       (None, 10, None, 32)      0         \n",
      "                                                                 \n",
      " Conv8 (Conv2D)              (None, 10, None, 64)      10304     \n",
      "                                                                 \n",
      " BN8 (BatchNormalization)    (None, 10, None, 64)      256       \n",
      "                                                                 \n",
      " Conv9 (Conv2D)              (None, 10, None, 64)      12352     \n",
      "                                                                 \n",
      " BN9 (BatchNormalization)    (None, 10, None, 64)      256       \n",
      "                                                                 \n",
      " MaxPool2D5 (MaxPooling2D)   (None, 5, None, 64)       0         \n",
      "                                                                 \n",
      " dropout_634 (Dropout)       (None, 5, None, 64)       0         \n",
      "                                                                 \n",
      " Conv10 (Conv2D)             (None, 5, None, 64)       20544     \n",
      "                                                                 \n",
      " BN10 (BatchNormalization)   (None, 5, None, 64)       256       \n",
      "                                                                 \n",
      " Conv11 (Conv2D)             (None, 5, None, 64)       12352     \n",
      "                                                                 \n",
      " BN11 (BatchNormalization)   (None, 5, None, 64)       256       \n",
      "                                                                 \n",
      " MaxPool2D6 (MaxPooling2D)   (None, 2, None, 64)       0         \n",
      "                                                                 \n",
      " dropout_635 (Dropout)       (None, 2, None, 64)       0         \n",
      "                                                                 \n",
      " 1x1 (Conv2D)                (None, 2, None, 24)       1560      \n",
      "                                                                 \n",
      " global_average_pooling2d_10  (None, 24)               0         \n",
      " 5 (GlobalAveragePooling2D)                                      \n",
      "                                                                 \n",
      " activation_105 (Activation)  (None, 24)               0         \n",
      "                                                                 \n",
      "=================================================================\n",
      "Total params: 74,480\n",
      "Trainable params: 73,616\n",
      "Non-trainable params: 864\n",
      "_________________________________________________________________\n"
     ]
    }
   ],
   "source": [
    "model.summary()"
   ],
   "metadata": {
    "pycharm": {
     "name": "#%%\n"
    },
    "colab": {
     "base_uri": "https://localhost:8080/"
    },
    "id": "LbrzfQt_2Xzx",
    "outputId": "a8b99613-89ee-4d9d-bf84-2e6067c483b5"
   }
  },
  {
   "cell_type": "markdown",
   "source": [
    "Now we save the model using Tensorflow 2 under the new file name.\n"
   ],
   "metadata": {
    "collapsed": false,
    "pycharm": {
     "name": "#%% md\n"
    },
    "id": "5zb0EuCi2Xzx"
   }
  },
  {
   "cell_type": "code",
   "execution_count": 8,
   "outputs": [
    {
     "output_type": "stream",
     "name": "stdout",
     "text": [
      "Model saved as Model.h5.\n"
     ]
    }
   ],
   "source": [
    "tf.keras.models.save_model(model, f\"Models/{NEW_MODEL_FILE}\")\n",
    "print(f\"Model saved as {NEW_MODEL_FILE}.\")"
   ],
   "metadata": {
    "pycharm": {
     "name": "#%%\n"
    },
    "colab": {
     "base_uri": "https://localhost:8080/"
    },
    "id": "n68ntYcU2Xzy",
    "outputId": "a036e7d0-0463-4fa9-fdca-872bfe47b15b"
   }
  },
  {
   "cell_type": "markdown",
   "source": [
    "We will also save the model in the Tensorflow JS format.\n"
   ],
   "metadata": {
    "collapsed": false,
    "pycharm": {
     "name": "#%% md\n"
    },
    "id": "6HPVKFQH2Xzy"
   }
  },
  {
   "cell_type": "code",
   "execution_count": null,
   "outputs": [],
   "source": [
    "!pip install tensorflowjs~=3.20.0  # When running on Google Colab"
   ],
   "metadata": {
    "collapsed": false,
    "pycharm": {
     "name": "#%%\n"
    }
   }
  },
  {
   "cell_type": "code",
   "execution_count": 10,
   "outputs": [],
   "source": [
    "import tensorflowjs as tfjs\n",
    "tfjs.converters.save_keras_model(model, \"Models/tfjs\")\n"
   ],
   "metadata": {
    "pycharm": {
     "name": "#%%\n"
    },
    "id": "ZQz0B5HQ2Xzy"
   }
  }
 ],
 "metadata": {
  "kernelspec": {
   "display_name": "Python 3",
   "language": "python",
   "name": "python3"
  },
  "language_info": {
   "codemirror_mode": {
    "name": "ipython",
    "version": 2
   },
   "file_extension": ".py",
   "mimetype": "text/x-python",
   "name": "python",
   "nbconvert_exporter": "python",
   "pygments_lexer": "ipython2",
   "version": "2.7.6"
  },
  "colab": {
   "provenance": []
  }
 },
 "nbformat": 4,
 "nbformat_minor": 0
}