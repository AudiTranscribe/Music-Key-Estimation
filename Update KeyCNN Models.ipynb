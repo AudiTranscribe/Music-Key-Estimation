{
 "nbformat": 4,
 "nbformat_minor": 0,
 "metadata": {},
 "cells": [
  {
   "cell_type": "markdown",
   "source": [
    "# Update KeyCNN Models\n",
    "This notebook helps update the KeyCNN models.\n",
    "\n",
    "The [KeyCNN Repository](https://github.com/hendriks73/key-cnn) has the following citation:\n",
    "```\n",
    "@inproceedings{SchreiberM19_CNNKeyTempo_SMC,\n",
    "   Title = {Musical Tempo and Key Estimation using Convolutional Neural Networks with Directional Filters},\n",
    "   Author = {Hendrik Schreiber and Meinard M{\\\"u}ller},\n",
    "   Booktitle = {Proceedings of the Sound and Music Computing Conference ({SMC})},\n",
    "   Pages = {47--54},\n",
    "   Year = {2019},\n",
    "   Address = {M{\\'a}laga, Spain}\n",
    "}\n",
    "```"
   ],
   "metadata": {
    "pycharm": {
     "name": "#%% md\n"
    }
   }
  },
  {
   "cell_type": "markdown",
   "source": [
    "Constants that will be used."
   ],
   "metadata": {
    "pycharm": {
     "name": "#%% md\n"
    }
   }
  },
  {
   "cell_type": "code",
   "source": [
    "MODEL_FILE = \"deepspec_k2.h5\"\n",
    "\n",
    "NEW_MODEL_NAME = \"DEEPSPEC_K2\"\n",
    "NEW_MODEL_FILE = \"Model.h5\""
   ],
   "metadata": {
    "pycharm": {
     "name": "#%%\n"
    }
   },
   "execution_count": 1,
   "outputs": []
  },
  {
   "cell_type": "markdown",
   "source": [
    "Import needed stuff."
   ],
   "metadata": {
    "pycharm": {
     "name": "#%% md\n"
    }
   }
  },
  {
   "cell_type": "code",
   "execution_count": 2,
   "outputs": [
    {
     "name": "stdout",
     "output_type": "stream",
     "text": [
      "2.9.2\n"
     ]
    }
   ],
   "source": [
    "import tensorflow as tf\n",
    "\n",
    "print(tf.__version__)"
   ],
   "metadata": {
    "pycharm": {
     "name": "#%%\n"
    }
   }
  },
  {
   "cell_type": "markdown",
   "source": [
    "Load the model."
   ],
   "metadata": {
    "pycharm": {
     "name": "#%% md\n"
    }
   }
  },
  {
   "cell_type": "code",
   "source": [
    "model = tf.keras.models.load_model(\"deepspec_k2.h5\")"
   ],
   "metadata": {
    "pycharm": {
     "name": "#%%\n"
    }
   },
   "execution_count": 3,
   "outputs": [
    {
     "name": "stdout",
     "output_type": "stream",
     "text": [
      "Metal device set to: Apple M1\n"
     ]
    },
    {
     "name": "stderr",
     "output_type": "stream",
     "text": [
      "2022-08-03 09:53:19.457309: I tensorflow/core/common_runtime/pluggable_device/pluggable_device_factory.cc:305] Could not identify NUMA node of platform GPU ID 0, defaulting to 0. Your kernel may not have been built with NUMA support.\n",
      "2022-08-03 09:53:19.457444: I tensorflow/core/common_runtime/pluggable_device/pluggable_device_factory.cc:271] Created TensorFlow device (/job:localhost/replica:0/task:0/device:GPU:0 with 0 MB memory) -> physical PluggableDevice (device: 0, name: METAL, pci bus id: <undefined>)\n"
     ]
    }
   ]
  },
  {
   "cell_type": "markdown",
   "source": [
    "Rename the model to `NEW_MODEL_NAME`."
   ],
   "metadata": {
    "pycharm": {
     "name": "#%% md\n"
    }
   }
  },
  {
   "cell_type": "code",
   "source": [
    "model._name = NEW_MODEL_NAME"
   ],
   "metadata": {
    "pycharm": {
     "name": "#%%\n"
    }
   },
   "execution_count": 4,
   "outputs": []
  },
  {
   "cell_type": "markdown",
   "source": [
    "Get a summary of the model."
   ],
   "metadata": {
    "pycharm": {
     "name": "#%% md\n"
    }
   }
  },
  {
   "cell_type": "code",
   "source": [
    "model.summary()"
   ],
   "metadata": {
    "pycharm": {
     "name": "#%%\n"
    }
   },
   "execution_count": 5,
   "outputs": [
    {
     "name": "stdout",
     "output_type": "stream",
     "text": [
      "Model: \"DEEPSPEC_K2\"\n",
      "_________________________________________________________________\n",
      " Layer (type)                Output Shape              Param #   \n",
      "=================================================================\n",
      " input_76 (InputLayer)       [(None, 168, None, 1)]    0         \n",
      "                                                                 \n",
      " Conv0 (Conv2D)              (None, 168, None, 2)      12        \n",
      "                                                                 \n",
      " BN0 (BatchNormalization)    (None, 168, None, 2)      8         \n",
      "                                                                 \n",
      " Conv1 (Conv2D)              (None, 168, None, 2)      14        \n",
      "                                                                 \n",
      " BN1 (BatchNormalization)    (None, 168, None, 2)      8         \n",
      "                                                                 \n",
      " MaxPool2D1 (MaxPooling2D)   (None, 84, None, 2)       0         \n",
      "                                                                 \n",
      " dropout_450 (Dropout)       (None, 84, None, 2)       0         \n",
      "                                                                 \n",
      " Conv2 (Conv2D)              (None, 84, None, 4)       44        \n",
      "                                                                 \n",
      " BN2 (BatchNormalization)    (None, 84, None, 4)       16        \n",
      "                                                                 \n",
      " Conv3 (Conv2D)              (None, 84, None, 4)       52        \n",
      "                                                                 \n",
      " BN3 (BatchNormalization)    (None, 84, None, 4)       16        \n",
      "                                                                 \n",
      " MaxPool2D2 (MaxPooling2D)   (None, 42, None, 4)       0         \n",
      "                                                                 \n",
      " dropout_451 (Dropout)       (None, 42, None, 4)       0         \n",
      "                                                                 \n",
      " Conv4 (Conv2D)              (None, 42, None, 8)       168       \n",
      "                                                                 \n",
      " BN4 (BatchNormalization)    (None, 42, None, 8)       32        \n",
      "                                                                 \n",
      " Conv5 (Conv2D)              (None, 42, None, 8)       200       \n",
      "                                                                 \n",
      " BN5 (BatchNormalization)    (None, 42, None, 8)       32        \n",
      "                                                                 \n",
      " MaxPool2D3 (MaxPooling2D)   (None, 21, None, 8)       0         \n",
      "                                                                 \n",
      " dropout_452 (Dropout)       (None, 21, None, 8)       0         \n",
      "                                                                 \n",
      " Conv6 (Conv2D)              (None, 21, None, 8)       328       \n",
      "                                                                 \n",
      " BN6 (BatchNormalization)    (None, 21, None, 8)       32        \n",
      "                                                                 \n",
      " Conv7 (Conv2D)              (None, 21, None, 8)       200       \n",
      "                                                                 \n",
      " BN7 (BatchNormalization)    (None, 21, None, 8)       32        \n",
      "                                                                 \n",
      " MaxPool2D4 (MaxPooling2D)   (None, 10, None, 8)       0         \n",
      "                                                                 \n",
      " dropout_453 (Dropout)       (None, 10, None, 8)       0         \n",
      "                                                                 \n",
      " Conv8 (Conv2D)              (None, 10, None, 16)      656       \n",
      "                                                                 \n",
      " BN8 (BatchNormalization)    (None, 10, None, 16)      64        \n",
      "                                                                 \n",
      " Conv9 (Conv2D)              (None, 10, None, 16)      784       \n",
      "                                                                 \n",
      " BN9 (BatchNormalization)    (None, 10, None, 16)      64        \n",
      "                                                                 \n",
      " MaxPool2D5 (MaxPooling2D)   (None, 5, None, 16)       0         \n",
      "                                                                 \n",
      " dropout_454 (Dropout)       (None, 5, None, 16)       0         \n",
      "                                                                 \n",
      " Conv10 (Conv2D)             (None, 5, None, 16)       1296      \n",
      "                                                                 \n",
      " BN10 (BatchNormalization)   (None, 5, None, 16)       64        \n",
      "                                                                 \n",
      " Conv11 (Conv2D)             (None, 5, None, 16)       784       \n",
      "                                                                 \n",
      " BN11 (BatchNormalization)   (None, 5, None, 16)       64        \n",
      "                                                                 \n",
      " MaxPool2D6 (MaxPooling2D)   (None, 2, None, 16)       0         \n",
      "                                                                 \n",
      " dropout_455 (Dropout)       (None, 2, None, 16)       0         \n",
      "                                                                 \n",
      " 1x1 (Conv2D)                (None, 2, None, 24)       408       \n",
      "                                                                 \n",
      " global_average_pooling2d_75  (None, 24)               0         \n",
      "  (GlobalAveragePooling2D)                                       \n",
      "                                                                 \n",
      " activation_75 (Activation)  (None, 24)                0         \n",
      "                                                                 \n",
      "=================================================================\n",
      "Total params: 5,378\n",
      "Trainable params: 5,162\n",
      "Non-trainable params: 216\n",
      "_________________________________________________________________\n"
     ]
    }
   ]
  },
  {
   "cell_type": "markdown",
   "source": [
    "Save the model."
   ],
   "metadata": {
    "pycharm": {
     "name": "#%% md\n"
    }
   }
  },
  {
   "cell_type": "code",
   "source": [
    "tf.keras.models.save_model(model, NEW_MODEL_FILE)\n",
    "print(\"Model saved as\", NEW_MODEL_FILE)\n"
   ],
   "metadata": {
    "pycharm": {
     "name": "#%%\n"
    }
   },
   "execution_count": 6,
   "outputs": [
    {
     "name": "stdout",
     "output_type": "stream",
     "text": [
      "Model saved as Model.h5\n"
     ]
    }
   ]
  }
 ]
}